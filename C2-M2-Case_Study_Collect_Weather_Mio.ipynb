{
 "cells": [
  {
   "cell_type": "markdown",
   "metadata": {},
   "source": [
    "## Case study: Weather!"
   ]
  },
  {
   "cell_type": "markdown",
   "metadata": {},
   "source": [
    "### Downloading weather data\n",
    "\n",
    "We now know enough to proceed with extracting information about the local weather from Meteored website!\n",
    "\n",
    "The local weather of Boulder, CO is: https://www.meteored.cl/tiempo-en_Maipu-America+Sur-Chile-Region+Metropolitana+de+Santiago--1-17725.html\n",
    "\n",
    "Time to Start Scraping!"
   ]
  },
  {
   "cell_type": "markdown",
   "metadata": {},
   "source": [
    "We now know enough to download the page and start parsing it. In the below code, we will:\n",
    "\n",
    "*  Download the web page containing the forecast.\n",
    "*  Create a BeautifulSoup class to parse the page.\n",
    "*  Find the div with id seven-day-forecast, and assign to seven_day\n",
    "*  Inside seven_day, find each individual forecast item.\n",
    "Extract and print the first forecast item."
   ]
  },
  {
   "cell_type": "code",
   "execution_count": 35,
   "metadata": {},
   "outputs": [
    {
     "name": "stdout",
     "output_type": "stream",
     "text": [
      "[<span class=\"col day_col\"> <span class=\"text-0\"> Hoy </span> <span class=\"subtitle-m\">24 Dic</span> <span class=\"prediccion col\"> <span class=\"sD-1\"> <img alt=\"Soleado\" class=\"simbW\" height=\"48\" src=\"https://www.meteored.cl/css/v3/svgs/symbols/color/1.svg\" width=\"48\"/> </span> </span> <span class=\"temp\"> <span class=\"max changeUnitT\" data=\"31.19|0|\">31°</span> <span class=\"barra\">/</span> <span class=\"min changeUnitT\" data=\"16.7|0|\">17°</span> </span> <img alt=\"Calma\" class=\"SW\" height=\"32\" src=\"https://www.meteored.cl/css/v3/svgs/wind/newWind/6.svg\" width=\"32\"/> <span class=\"velocidad veloc-day\"> <span class=\"changeUnitW\" data=\"15|1\">15</span> - <span class=\"changeUnitW\" data=\"39|1\">39</span> <span class=\"changeUnitW\" data=\"|2\">km/h</span> </span> </span>, <span class=\"col day_col\"> <span class=\"text-0\"> Mañana </span> <span class=\"subtitle-m\">25 Dic</span> <span class=\"prediccion col\"> <span class=\"sD-3\"> <img alt=\"Nubes y claros\" class=\"simbW\" height=\"48\" src=\"https://www.meteored.cl/css/v3/svgs/symbols/color/3.svg\" width=\"48\"/> </span> </span> <span class=\"temp\"> <span class=\"max changeUnitT\" data=\"31.35|0|\">31°</span> <span class=\"barra\">/</span> <span class=\"min changeUnitT\" data=\"15.3|0|\">15°</span> </span> <img alt=\"Calma\" class=\"W\" height=\"32\" src=\"https://www.meteored.cl/css/v3/svgs/wind/newWind/6.svg\" width=\"32\"/> <span class=\"velocidad veloc-day\"> <span class=\"changeUnitW\" data=\"16|1\">16</span> - <span class=\"changeUnitW\" data=\"43|1\">43</span> <span class=\"changeUnitW\" data=\"|2\">km/h</span> </span> </span>, <span class=\"col day_col\"> <span class=\"text-0\"> Jueves </span> <span class=\"subtitle-m\">26 Dic</span> <span class=\"prediccion col\"> <span class=\"sD-1\"> <img alt=\"Soleado\" class=\"simbW\" height=\"48\" src=\"https://www.meteored.cl/css/v3/svgs/symbols/color/1.svg\" width=\"48\"/> </span> </span> <span class=\"temp\"> <span class=\"max changeUnitT\" data=\"29.7|0|\">30°</span> <span class=\"barra\">/</span> <span class=\"min changeUnitT\" data=\"13.49|0|\">13°</span> </span> <img alt=\"Calma\" class=\"W\" height=\"32\" src=\"https://www.meteored.cl/css/v3/svgs/wind/newWind/6.svg\" width=\"32\"/> <span class=\"velocidad veloc-day\"> <span class=\"changeUnitW\" data=\"15|1\">15</span> - <span class=\"changeUnitW\" data=\"40|1\">40</span> <span class=\"changeUnitW\" data=\"|2\">km/h</span> </span> </span>, <span class=\"col day_col\"> <span class=\"text-0\"> Viernes </span> <span class=\"subtitle-m\">27 Dic</span> <span class=\"prediccion col\"> <span class=\"sD-1\"> <img alt=\"Soleado\" class=\"simbW\" height=\"48\" src=\"https://www.meteored.cl/css/v3/svgs/symbols/color/1.svg\" width=\"48\"/> </span> </span> <span class=\"temp\"> <span class=\"max changeUnitT\" data=\"29.16|0|\">29°</span> <span class=\"barra\">/</span> <span class=\"min changeUnitT\" data=\"13.86|0|\">14°</span> </span> <img alt=\"Calma\" class=\"W\" height=\"32\" src=\"https://www.meteored.cl/css/v3/svgs/wind/newWind/6.svg\" width=\"32\"/> <span class=\"velocidad veloc-day\"> <span class=\"changeUnitW\" data=\"16|1\">16</span> - <span class=\"changeUnitW\" data=\"42|1\">42</span> <span class=\"changeUnitW\" data=\"|2\">km/h</span> </span> </span>, <span class=\"col day_col\"> <span class=\"text-0\"> Sábado </span> <span class=\"subtitle-m\">28 Dic</span> <span class=\"prediccion col\"> <span class=\"sD-1\"> <img alt=\"Soleado\" class=\"simbW\" height=\"48\" src=\"https://www.meteored.cl/css/v3/svgs/symbols/color/1.svg\" width=\"48\"/> </span> </span> <span class=\"temp\"> <span class=\"max changeUnitT\" data=\"30.66|0|\">31°</span> <span class=\"barra\">/</span> <span class=\"min changeUnitT\" data=\"13.57|0|\">14°</span> </span> <img alt=\"Calma\" class=\"SW\" height=\"32\" src=\"https://www.meteored.cl/css/v3/svgs/wind/newWind/6.svg\" width=\"32\"/> <span class=\"velocidad veloc-day\"> <span class=\"changeUnitW\" data=\"17|1\">17</span> - <span class=\"changeUnitW\" data=\"45|1\">45</span> <span class=\"changeUnitW\" data=\"|2\">km/h</span> </span> </span>, <span class=\"col day_col\"> <span class=\"text-0\"> Domingo </span> <span class=\"subtitle-m\">29 Dic</span> <span class=\"prediccion col\"> <span class=\"sD-1\"> <img alt=\"Soleado\" class=\"simbW\" height=\"48\" src=\"https://www.meteored.cl/css/v3/svgs/symbols/color/1.svg\" width=\"48\"/> </span> </span> <span class=\"temp\"> <span class=\"max changeUnitT\" data=\"31.08|0|\">31°</span> <span class=\"barra\">/</span> <span class=\"min changeUnitT\" data=\"14.65|0|\">15°</span> </span> <img alt=\"Calma\" class=\"SW\" height=\"32\" src=\"https://www.meteored.cl/css/v3/svgs/wind/newWind/6.svg\" width=\"32\"/> <span class=\"velocidad veloc-day\"> <span class=\"changeUnitW\" data=\"17|1\">17</span> - <span class=\"changeUnitW\" data=\"44|1\">44</span> <span class=\"changeUnitW\" data=\"|2\">km/h</span> </span> </span>, <span class=\"col day_col\"> <span class=\"text-0\"> Lunes </span> <span class=\"subtitle-m\">30 Dic</span> <span class=\"prediccion col\"> <span class=\"sD-1\"> <img alt=\"Soleado\" class=\"simbW\" height=\"48\" src=\"https://www.meteored.cl/css/v3/svgs/symbols/color/1.svg\" width=\"48\"/> </span> </span> <span class=\"temp\"> <span class=\"max changeUnitT\" data=\"28.86|0|\">29°</span> <span class=\"barra\">/</span> <span class=\"min changeUnitT\" data=\"13.8|0|\">14°</span> </span> <img alt=\"Calma\" class=\"W\" height=\"32\" src=\"https://www.meteored.cl/css/v3/svgs/wind/newWind/6.svg\" width=\"32\"/> <span class=\"velocidad veloc-day\"> <span class=\"changeUnitW\" data=\"15|1\">15</span> - <span class=\"changeUnitW\" data=\"44|1\">44</span> <span class=\"changeUnitW\" data=\"|2\">km/h</span> </span> </span>]\n"
     ]
    }
   ],
   "source": [
    "import requests\n",
    "from bs4 import BeautifulSoup\n",
    "\n",
    "page = requests.get(\"https://www.meteored.cl/tiempo-en_Maipu-America+Sur-Chile-Region+Metropolitana+de+Santiago--1-17725.html\")\n",
    "soup = BeautifulSoup(page.content, 'html.parser')\n",
    "seven_day = soup.find(class_=\"dias card_struct\")\n",
    "forecast_items = seven_day.find_all(class_=\"col day_col\")\n",
    "print(forecast_items)"
   ]
  },
  {
   "cell_type": "code",
   "execution_count": 36,
   "metadata": {},
   "outputs": [
    {
     "data": {
      "text/plain": [
       "<section class=\"dias card_struct\"> <div class=\"flex-r dos-semanas nuevo-3\"> <ul class=\"grid-container-7 dias_w\"> <li class=\"grid-item dia d1 activo\"> <span class=\"col day_col\"> <span class=\"text-0\"> Hoy </span> <span class=\"subtitle-m\">24 Dic</span> <span class=\"prediccion col\"> <span class=\"sD-1\"> <img alt=\"Soleado\" class=\"simbW\" height=\"48\" src=\"https://www.meteored.cl/css/v3/svgs/symbols/color/1.svg\" width=\"48\"/> </span> </span> <span class=\"temp\"> <span class=\"max changeUnitT\" data=\"31.19|0|\">31°</span> <span class=\"barra\">/</span> <span class=\"min changeUnitT\" data=\"16.7|0|\">17°</span> </span> <img alt=\"Calma\" class=\"SW\" height=\"32\" src=\"https://www.meteored.cl/css/v3/svgs/wind/newWind/6.svg\" width=\"32\"/> <span class=\"velocidad veloc-day\"> <span class=\"changeUnitW\" data=\"15|1\">15</span> - <span class=\"changeUnitW\" data=\"39|1\">39</span> <span class=\"changeUnitW\" data=\"|2\">km/h</span> </span> </span> </li> <li class=\"grid-item dia d2\"> <span class=\"col day_col\"> <span class=\"text-0\"> Mañana </span> <span class=\"subtitle-m\">25 Dic</span> <span class=\"prediccion col\"> <span class=\"sD-3\"> <img alt=\"Nubes y claros\" class=\"simbW\" height=\"48\" src=\"https://www.meteored.cl/css/v3/svgs/symbols/color/3.svg\" width=\"48\"/> </span> </span> <span class=\"temp\"> <span class=\"max changeUnitT\" data=\"31.35|0|\">31°</span> <span class=\"barra\">/</span> <span class=\"min changeUnitT\" data=\"15.3|0|\">15°</span> </span> <img alt=\"Calma\" class=\"W\" height=\"32\" src=\"https://www.meteored.cl/css/v3/svgs/wind/newWind/6.svg\" width=\"32\"/> <span class=\"velocidad veloc-day\"> <span class=\"changeUnitW\" data=\"16|1\">16</span> - <span class=\"changeUnitW\" data=\"43|1\">43</span> <span class=\"changeUnitW\" data=\"|2\">km/h</span> </span> </span> </li> <li class=\"grid-item dia d3\"> <span class=\"col day_col\"> <span class=\"text-0\"> Jueves </span> <span class=\"subtitle-m\">26 Dic</span> <span class=\"prediccion col\"> <span class=\"sD-1\"> <img alt=\"Soleado\" class=\"simbW\" height=\"48\" src=\"https://www.meteored.cl/css/v3/svgs/symbols/color/1.svg\" width=\"48\"/> </span> </span> <span class=\"temp\"> <span class=\"max changeUnitT\" data=\"29.7|0|\">30°</span> <span class=\"barra\">/</span> <span class=\"min changeUnitT\" data=\"13.49|0|\">13°</span> </span> <img alt=\"Calma\" class=\"W\" height=\"32\" src=\"https://www.meteored.cl/css/v3/svgs/wind/newWind/6.svg\" width=\"32\"/> <span class=\"velocidad veloc-day\"> <span class=\"changeUnitW\" data=\"15|1\">15</span> - <span class=\"changeUnitW\" data=\"40|1\">40</span> <span class=\"changeUnitW\" data=\"|2\">km/h</span> </span> </span> </li> <li class=\"grid-item dia d4\"> <span class=\"col day_col\"> <span class=\"text-0\"> Viernes </span> <span class=\"subtitle-m\">27 Dic</span> <span class=\"prediccion col\"> <span class=\"sD-1\"> <img alt=\"Soleado\" class=\"simbW\" height=\"48\" src=\"https://www.meteored.cl/css/v3/svgs/symbols/color/1.svg\" width=\"48\"/> </span> </span> <span class=\"temp\"> <span class=\"max changeUnitT\" data=\"29.16|0|\">29°</span> <span class=\"barra\">/</span> <span class=\"min changeUnitT\" data=\"13.86|0|\">14°</span> </span> <img alt=\"Calma\" class=\"W\" height=\"32\" src=\"https://www.meteored.cl/css/v3/svgs/wind/newWind/6.svg\" width=\"32\"/> <span class=\"velocidad veloc-day\"> <span class=\"changeUnitW\" data=\"16|1\">16</span> - <span class=\"changeUnitW\" data=\"42|1\">42</span> <span class=\"changeUnitW\" data=\"|2\">km/h</span> </span> </span> </li> <li class=\"grid-item dia d5\"> <span class=\"col day_col\"> <span class=\"text-0\"> Sábado </span> <span class=\"subtitle-m\">28 Dic</span> <span class=\"prediccion col\"> <span class=\"sD-1\"> <img alt=\"Soleado\" class=\"simbW\" height=\"48\" src=\"https://www.meteored.cl/css/v3/svgs/symbols/color/1.svg\" width=\"48\"/> </span> </span> <span class=\"temp\"> <span class=\"max changeUnitT\" data=\"30.66|0|\">31°</span> <span class=\"barra\">/</span> <span class=\"min changeUnitT\" data=\"13.57|0|\">14°</span> </span> <img alt=\"Calma\" class=\"SW\" height=\"32\" src=\"https://www.meteored.cl/css/v3/svgs/wind/newWind/6.svg\" width=\"32\"/> <span class=\"velocidad veloc-day\"> <span class=\"changeUnitW\" data=\"17|1\">17</span> - <span class=\"changeUnitW\" data=\"45|1\">45</span> <span class=\"changeUnitW\" data=\"|2\">km/h</span> </span> </span> </li> <li class=\"grid-item dia d6\"> <span class=\"col day_col\"> <span class=\"text-0\"> Domingo </span> <span class=\"subtitle-m\">29 Dic</span> <span class=\"prediccion col\"> <span class=\"sD-1\"> <img alt=\"Soleado\" class=\"simbW\" height=\"48\" src=\"https://www.meteored.cl/css/v3/svgs/symbols/color/1.svg\" width=\"48\"/> </span> </span> <span class=\"temp\"> <span class=\"max changeUnitT\" data=\"31.08|0|\">31°</span> <span class=\"barra\">/</span> <span class=\"min changeUnitT\" data=\"14.65|0|\">15°</span> </span> <img alt=\"Calma\" class=\"SW\" height=\"32\" src=\"https://www.meteored.cl/css/v3/svgs/wind/newWind/6.svg\" width=\"32\"/> <span class=\"velocidad veloc-day\"> <span class=\"changeUnitW\" data=\"17|1\">17</span> - <span class=\"changeUnitW\" data=\"44|1\">44</span> <span class=\"changeUnitW\" data=\"|2\">km/h</span> </span> </span> </li> <li class=\"grid-item dia d7\"> <span class=\"col day_col\"> <span class=\"text-0\"> Lunes </span> <span class=\"subtitle-m\">30 Dic</span> <span class=\"prediccion col\"> <span class=\"sD-1\"> <img alt=\"Soleado\" class=\"simbW\" height=\"48\" src=\"https://www.meteored.cl/css/v3/svgs/symbols/color/1.svg\" width=\"48\"/> </span> </span> <span class=\"temp\"> <span class=\"max changeUnitT\" data=\"28.86|0|\">29°</span> <span class=\"barra\">/</span> <span class=\"min changeUnitT\" data=\"13.8|0|\">14°</span> </span> <img alt=\"Calma\" class=\"W\" height=\"32\" src=\"https://www.meteored.cl/css/v3/svgs/wind/newWind/6.svg\" width=\"32\"/> <span class=\"velocidad veloc-day\"> <span class=\"changeUnitW\" data=\"15|1\">15</span> - <span class=\"changeUnitW\" data=\"44|1\">44</span> <span class=\"changeUnitW\" data=\"|2\">km/h</span> </span> </span> </li> </ul> <div class=\"horas\"> <a href=\"https://www.meteored.cl/tiempo-en_Maipu-America+Sur-Chile-Region+Metropolitana+de+Santiago--nxw-17725.html\" title=\"El Tiempo en Maipú, Siguiente Semana\"> <span class=\"icon arrow fav-carrusel-der\" id=\"fav-carrusel-der\"> <svg fill=\"none\" height=\"26\" width=\"24\" xmlns=\"http://www.w3.org/2000/svg\"><path d=\"M8.59,16.58L13.17,12L8.59,7.41L10,6L16,12L10,18L8.59,16.58Z\" fill=\"#0074AD\"></path></svg> </span> </a> </div> </div> </section>"
      ]
     },
     "execution_count": 36,
     "metadata": {},
     "output_type": "execute_result"
    }
   ],
   "source": [
    "seven_day"
   ]
  },
  {
   "cell_type": "code",
   "execution_count": 37,
   "metadata": {},
   "outputs": [
    {
     "data": {
      "text/plain": [
       "[<span class=\"col day_col\"> <span class=\"text-0\"> Hoy </span> <span class=\"subtitle-m\">24 Dic</span> <span class=\"prediccion col\"> <span class=\"sD-1\"> <img alt=\"Soleado\" class=\"simbW\" height=\"48\" src=\"https://www.meteored.cl/css/v3/svgs/symbols/color/1.svg\" width=\"48\"/> </span> </span> <span class=\"temp\"> <span class=\"max changeUnitT\" data=\"31.19|0|\">31°</span> <span class=\"barra\">/</span> <span class=\"min changeUnitT\" data=\"16.7|0|\">17°</span> </span> <img alt=\"Calma\" class=\"SW\" height=\"32\" src=\"https://www.meteored.cl/css/v3/svgs/wind/newWind/6.svg\" width=\"32\"/> <span class=\"velocidad veloc-day\"> <span class=\"changeUnitW\" data=\"15|1\">15</span> - <span class=\"changeUnitW\" data=\"39|1\">39</span> <span class=\"changeUnitW\" data=\"|2\">km/h</span> </span> </span>,\n",
       " <span class=\"col day_col\"> <span class=\"text-0\"> Mañana </span> <span class=\"subtitle-m\">25 Dic</span> <span class=\"prediccion col\"> <span class=\"sD-3\"> <img alt=\"Nubes y claros\" class=\"simbW\" height=\"48\" src=\"https://www.meteored.cl/css/v3/svgs/symbols/color/3.svg\" width=\"48\"/> </span> </span> <span class=\"temp\"> <span class=\"max changeUnitT\" data=\"31.35|0|\">31°</span> <span class=\"barra\">/</span> <span class=\"min changeUnitT\" data=\"15.3|0|\">15°</span> </span> <img alt=\"Calma\" class=\"W\" height=\"32\" src=\"https://www.meteored.cl/css/v3/svgs/wind/newWind/6.svg\" width=\"32\"/> <span class=\"velocidad veloc-day\"> <span class=\"changeUnitW\" data=\"16|1\">16</span> - <span class=\"changeUnitW\" data=\"43|1\">43</span> <span class=\"changeUnitW\" data=\"|2\">km/h</span> </span> </span>,\n",
       " <span class=\"col day_col\"> <span class=\"text-0\"> Jueves </span> <span class=\"subtitle-m\">26 Dic</span> <span class=\"prediccion col\"> <span class=\"sD-1\"> <img alt=\"Soleado\" class=\"simbW\" height=\"48\" src=\"https://www.meteored.cl/css/v3/svgs/symbols/color/1.svg\" width=\"48\"/> </span> </span> <span class=\"temp\"> <span class=\"max changeUnitT\" data=\"29.7|0|\">30°</span> <span class=\"barra\">/</span> <span class=\"min changeUnitT\" data=\"13.49|0|\">13°</span> </span> <img alt=\"Calma\" class=\"W\" height=\"32\" src=\"https://www.meteored.cl/css/v3/svgs/wind/newWind/6.svg\" width=\"32\"/> <span class=\"velocidad veloc-day\"> <span class=\"changeUnitW\" data=\"15|1\">15</span> - <span class=\"changeUnitW\" data=\"40|1\">40</span> <span class=\"changeUnitW\" data=\"|2\">km/h</span> </span> </span>,\n",
       " <span class=\"col day_col\"> <span class=\"text-0\"> Viernes </span> <span class=\"subtitle-m\">27 Dic</span> <span class=\"prediccion col\"> <span class=\"sD-1\"> <img alt=\"Soleado\" class=\"simbW\" height=\"48\" src=\"https://www.meteored.cl/css/v3/svgs/symbols/color/1.svg\" width=\"48\"/> </span> </span> <span class=\"temp\"> <span class=\"max changeUnitT\" data=\"29.16|0|\">29°</span> <span class=\"barra\">/</span> <span class=\"min changeUnitT\" data=\"13.86|0|\">14°</span> </span> <img alt=\"Calma\" class=\"W\" height=\"32\" src=\"https://www.meteored.cl/css/v3/svgs/wind/newWind/6.svg\" width=\"32\"/> <span class=\"velocidad veloc-day\"> <span class=\"changeUnitW\" data=\"16|1\">16</span> - <span class=\"changeUnitW\" data=\"42|1\">42</span> <span class=\"changeUnitW\" data=\"|2\">km/h</span> </span> </span>,\n",
       " <span class=\"col day_col\"> <span class=\"text-0\"> Sábado </span> <span class=\"subtitle-m\">28 Dic</span> <span class=\"prediccion col\"> <span class=\"sD-1\"> <img alt=\"Soleado\" class=\"simbW\" height=\"48\" src=\"https://www.meteored.cl/css/v3/svgs/symbols/color/1.svg\" width=\"48\"/> </span> </span> <span class=\"temp\"> <span class=\"max changeUnitT\" data=\"30.66|0|\">31°</span> <span class=\"barra\">/</span> <span class=\"min changeUnitT\" data=\"13.57|0|\">14°</span> </span> <img alt=\"Calma\" class=\"SW\" height=\"32\" src=\"https://www.meteored.cl/css/v3/svgs/wind/newWind/6.svg\" width=\"32\"/> <span class=\"velocidad veloc-day\"> <span class=\"changeUnitW\" data=\"17|1\">17</span> - <span class=\"changeUnitW\" data=\"45|1\">45</span> <span class=\"changeUnitW\" data=\"|2\">km/h</span> </span> </span>,\n",
       " <span class=\"col day_col\"> <span class=\"text-0\"> Domingo </span> <span class=\"subtitle-m\">29 Dic</span> <span class=\"prediccion col\"> <span class=\"sD-1\"> <img alt=\"Soleado\" class=\"simbW\" height=\"48\" src=\"https://www.meteored.cl/css/v3/svgs/symbols/color/1.svg\" width=\"48\"/> </span> </span> <span class=\"temp\"> <span class=\"max changeUnitT\" data=\"31.08|0|\">31°</span> <span class=\"barra\">/</span> <span class=\"min changeUnitT\" data=\"14.65|0|\">15°</span> </span> <img alt=\"Calma\" class=\"SW\" height=\"32\" src=\"https://www.meteored.cl/css/v3/svgs/wind/newWind/6.svg\" width=\"32\"/> <span class=\"velocidad veloc-day\"> <span class=\"changeUnitW\" data=\"17|1\">17</span> - <span class=\"changeUnitW\" data=\"44|1\">44</span> <span class=\"changeUnitW\" data=\"|2\">km/h</span> </span> </span>,\n",
       " <span class=\"col day_col\"> <span class=\"text-0\"> Lunes </span> <span class=\"subtitle-m\">30 Dic</span> <span class=\"prediccion col\"> <span class=\"sD-1\"> <img alt=\"Soleado\" class=\"simbW\" height=\"48\" src=\"https://www.meteored.cl/css/v3/svgs/symbols/color/1.svg\" width=\"48\"/> </span> </span> <span class=\"temp\"> <span class=\"max changeUnitT\" data=\"28.86|0|\">29°</span> <span class=\"barra\">/</span> <span class=\"min changeUnitT\" data=\"13.8|0|\">14°</span> </span> <img alt=\"Calma\" class=\"W\" height=\"32\" src=\"https://www.meteored.cl/css/v3/svgs/wind/newWind/6.svg\" width=\"32\"/> <span class=\"velocidad veloc-day\"> <span class=\"changeUnitW\" data=\"15|1\">15</span> - <span class=\"changeUnitW\" data=\"44|1\">44</span> <span class=\"changeUnitW\" data=\"|2\">km/h</span> </span> </span>]"
      ]
     },
     "execution_count": 37,
     "metadata": {},
     "output_type": "execute_result"
    }
   ],
   "source": [
    "forecast_items"
   ]
  },
  {
   "cell_type": "code",
   "execution_count": 38,
   "metadata": {},
   "outputs": [
    {
     "name": "stdout",
     "output_type": "stream",
     "text": [
      "<span class=\"col day_col\">\n",
      " <span class=\"text-0\">\n",
      "  Hoy\n",
      " </span>\n",
      " <span class=\"subtitle-m\">\n",
      "  24 Dic\n",
      " </span>\n",
      " <span class=\"prediccion col\">\n",
      "  <span class=\"sD-1\">\n",
      "   <img alt=\"Soleado\" class=\"simbW\" height=\"48\" src=\"https://www.meteored.cl/css/v3/svgs/symbols/color/1.svg\" width=\"48\"/>\n",
      "  </span>\n",
      " </span>\n",
      " <span class=\"temp\">\n",
      "  <span class=\"max changeUnitT\" data=\"31.19|0|\">\n",
      "   31°\n",
      "  </span>\n",
      "  <span class=\"barra\">\n",
      "   /\n",
      "  </span>\n",
      "  <span class=\"min changeUnitT\" data=\"16.7|0|\">\n",
      "   17°\n",
      "  </span>\n",
      " </span>\n",
      " <img alt=\"Calma\" class=\"SW\" height=\"32\" src=\"https://www.meteored.cl/css/v3/svgs/wind/newWind/6.svg\" width=\"32\"/>\n",
      " <span class=\"velocidad veloc-day\">\n",
      "  <span class=\"changeUnitW\" data=\"15|1\">\n",
      "   15\n",
      "  </span>\n",
      "  -\n",
      "  <span class=\"changeUnitW\" data=\"39|1\">\n",
      "   39\n",
      "  </span>\n",
      "  <span class=\"changeUnitW\" data=\"|2\">\n",
      "   km/h\n",
      "  </span>\n",
      " </span>\n",
      "</span>\n",
      "\n"
     ]
    }
   ],
   "source": [
    "hoy = forecast_items[0]\n",
    "print(hoy.prettify())"
   ]
  },
  {
   "cell_type": "markdown",
   "metadata": {},
   "source": [
    "### Extracting information of day\n",
    "\n",
    "As we can see, inside the forecast item day is all the information we want. There are four pieces of information we can extract:\n",
    "\n",
    "*  The name of the forecast item — in this case, Hoy.\n",
    "*  The day, in this case class subtitle-m.\n",
    "*  The temperatuire max and min.\n",
    "*  The wind speed."
   ]
  },
  {
   "cell_type": "code",
   "execution_count": 39,
   "metadata": {},
   "outputs": [
    {
     "name": "stdout",
     "output_type": "stream",
     "text": [
      "Hoy\n",
      "24 Dic\n",
      "31°\n",
      "17°\n",
      "15 - 39 km/h\n",
      "Soleado\n"
     ]
    }
   ],
   "source": [
    "period = hoy.find(class_=\"text-0\").get_text().strip()\n",
    "date = hoy.find(class_=\"subtitle-m\").get_text().strip()\n",
    "temp_max = hoy.find(class_=\"max changeUnitT\").get_text().strip()\n",
    "temp_min = hoy.find(class_=\"min changeUnitT\").get_text().strip()\n",
    "wind_speed = hoy.find(class_=\"velocidad veloc-day\").get_text().strip()\n",
    "\n",
    "# Para la predicción, accede al atributo \"alt\" de la etiqueta <img>\n",
    "prediction_tag = hoy.find(\"img\", class_=\"simbW\")\n",
    "prediction = prediction_tag.get(\"alt\").strip() if prediction_tag else \"No se encontró predicción\"\n",
    "\n",
    "print(period)\n",
    "print(date)\n",
    "print(temp_max)\n",
    "print(temp_min)\n",
    "print(wind_speed)\n",
    "print(prediction)"
   ]
  },
  {
   "cell_type": "markdown",
   "metadata": {},
   "source": [
    "### Extract all day!\n",
    "\n",
    "Now that we know how to extract each individual piece of information, we can combine our knowledge with CSS selectors and list comprehensions to extract everything at once.\n",
    "\n",
    "In the below code, we will:\n",
    "\n",
    "Select all items with the class .text-0 inside an item with the class .col.day_col in seven_day.\n",
    "Use a list comprehension to call the get_text method on each BeautifulSoup object."
   ]
  },
  {
   "cell_type": "code",
   "execution_count": 40,
   "metadata": {},
   "outputs": [
    {
     "data": {
      "text/plain": [
       "['Hoy', 'Mañana', 'Jueves', 'Viernes', 'Sábado', 'Domingo', 'Lunes']"
      ]
     },
     "execution_count": 40,
     "metadata": {},
     "output_type": "execute_result"
    }
   ],
   "source": [
    "period_tags = seven_day.select(\".col.day_col .text-0\")\n",
    "periods = [pt.get_text().strip() for pt in period_tags]\n",
    "periods"
   ]
  },
  {
   "cell_type": "markdown",
   "metadata": {},
   "source": [
    "As we can see above, our technique gets us each of the days, in order.\n",
    "\n",
    "We can apply the same technique to get the other three fields:"
   ]
  },
  {
   "cell_type": "code",
   "execution_count": 41,
   "metadata": {},
   "outputs": [
    {
     "name": "stdout",
     "output_type": "stream",
     "text": [
      "['Hoy', 'Mañana', 'Jueves', 'Viernes', 'Sábado', 'Domingo', 'Lunes']\n",
      "['24 Dic', '25 Dic', '26 Dic', '27 Dic', '28 Dic', '29 Dic', '30 Dic']\n",
      "['31°', '31°', '30°', '29°', '31°', '31°', '29°']\n",
      "['17°', '15°', '13°', '14°', '14°', '15°', '14°']\n",
      "['15 - 39 km/h', '16 - 43 km/h', '15 - 40 km/h', '16 - 42 km/h', '17 - 45 km/h', '17 - 44 km/h', '15 - 44 km/h']\n",
      "['Soleado', 'Nubes y claros', 'Soleado', 'Soleado', 'Soleado', 'Soleado', 'Soleado']\n"
     ]
    }
   ],
   "source": [
    "periods = [sd.get_text().strip() for sd in seven_day.select(\".col.day_col .text-0\")]\n",
    "dates = [sd.get_text().strip() for sd in seven_day.select(\".col.day_col .subtitle-m\")]\n",
    "temp_maxs = [sd.get_text().strip() for sd in seven_day.select(\".col.day_col .max.changeUnitT\")]\n",
    "temp_mins = [sd.get_text().strip() for sd in seven_day.select(\".col.day_col .min.changeUnitT\")]\n",
    "wind_speeds = [sd.get_text().strip() for sd in seven_day.select(\".col.day_col .velocidad.veloc-day\")]\n",
    "\n",
    "# Encuentra todas las etiquetas <img> con la clase \"simbW\" dentro de seven_day\n",
    "prediction_tags = seven_day.select(\".col.day_col img.simbW\")\n",
    "\n",
    "# Extrae el atributo \"alt\" de cada etiqueta y guarda el resultado en una lista\n",
    "predictions = [pt.get(\"alt\").strip() for pt in prediction_tags if pt.get(\"alt\")]\n",
    "\n",
    "print(periods)\n",
    "print(dates)\n",
    "print(temp_maxs)\n",
    "print(temp_mins)\n",
    "print(wind_speeds)\n",
    "print(predictions)"
   ]
  },
  {
   "cell_type": "markdown",
   "metadata": {},
   "source": [
    "### Deal with data\n",
    "\n",
    "We can now combine the data into a Pandas DataFrame and analyze it. A DataFrame is an object that can store tabular data, making data analysis easy. If you want to learn more about Pandas, check out our free to start course here.\n",
    "\n",
    "In order to do this, we’ll call the DataFrame class, and pass in each list of items that we have. We pass them in as part of a dictionary.\n",
    "\n",
    "Each dictionary key will become a column in the DataFrame, and each list will become the values in the column:"
   ]
  },
  {
   "cell_type": "code",
   "execution_count": 42,
   "metadata": {},
   "outputs": [
    {
     "data": {
      "text/html": [
       "<div>\n",
       "<style scoped>\n",
       "    .dataframe tbody tr th:only-of-type {\n",
       "        vertical-align: middle;\n",
       "    }\n",
       "\n",
       "    .dataframe tbody tr th {\n",
       "        vertical-align: top;\n",
       "    }\n",
       "\n",
       "    .dataframe thead th {\n",
       "        text-align: right;\n",
       "    }\n",
       "</style>\n",
       "<table border=\"1\" class=\"dataframe\">\n",
       "  <thead>\n",
       "    <tr style=\"text-align: right;\">\n",
       "      <th></th>\n",
       "      <th>period</th>\n",
       "      <th>date</th>\n",
       "      <th>temp_max</th>\n",
       "      <th>temp_min</th>\n",
       "      <th>wind_speed</th>\n",
       "      <th>prediction</th>\n",
       "    </tr>\n",
       "  </thead>\n",
       "  <tbody>\n",
       "    <tr>\n",
       "      <th>0</th>\n",
       "      <td>Hoy</td>\n",
       "      <td>24 Dic</td>\n",
       "      <td>31°</td>\n",
       "      <td>17°</td>\n",
       "      <td>15 - 39 km/h</td>\n",
       "      <td>Soleado</td>\n",
       "    </tr>\n",
       "    <tr>\n",
       "      <th>1</th>\n",
       "      <td>Mañana</td>\n",
       "      <td>25 Dic</td>\n",
       "      <td>31°</td>\n",
       "      <td>15°</td>\n",
       "      <td>16 - 43 km/h</td>\n",
       "      <td>Nubes y claros</td>\n",
       "    </tr>\n",
       "    <tr>\n",
       "      <th>2</th>\n",
       "      <td>Jueves</td>\n",
       "      <td>26 Dic</td>\n",
       "      <td>30°</td>\n",
       "      <td>13°</td>\n",
       "      <td>15 - 40 km/h</td>\n",
       "      <td>Soleado</td>\n",
       "    </tr>\n",
       "    <tr>\n",
       "      <th>3</th>\n",
       "      <td>Viernes</td>\n",
       "      <td>27 Dic</td>\n",
       "      <td>29°</td>\n",
       "      <td>14°</td>\n",
       "      <td>16 - 42 km/h</td>\n",
       "      <td>Soleado</td>\n",
       "    </tr>\n",
       "    <tr>\n",
       "      <th>4</th>\n",
       "      <td>Sábado</td>\n",
       "      <td>28 Dic</td>\n",
       "      <td>31°</td>\n",
       "      <td>14°</td>\n",
       "      <td>17 - 45 km/h</td>\n",
       "      <td>Soleado</td>\n",
       "    </tr>\n",
       "    <tr>\n",
       "      <th>5</th>\n",
       "      <td>Domingo</td>\n",
       "      <td>29 Dic</td>\n",
       "      <td>31°</td>\n",
       "      <td>15°</td>\n",
       "      <td>17 - 44 km/h</td>\n",
       "      <td>Soleado</td>\n",
       "    </tr>\n",
       "    <tr>\n",
       "      <th>6</th>\n",
       "      <td>Lunes</td>\n",
       "      <td>30 Dic</td>\n",
       "      <td>29°</td>\n",
       "      <td>14°</td>\n",
       "      <td>15 - 44 km/h</td>\n",
       "      <td>Soleado</td>\n",
       "    </tr>\n",
       "  </tbody>\n",
       "</table>\n",
       "</div>"
      ],
      "text/plain": [
       "    period    date temp_max temp_min    wind_speed      prediction\n",
       "0      Hoy  24 Dic      31°      17°  15 - 39 km/h         Soleado\n",
       "1   Mañana  25 Dic      31°      15°  16 - 43 km/h  Nubes y claros\n",
       "2   Jueves  26 Dic      30°      13°  15 - 40 km/h         Soleado\n",
       "3  Viernes  27 Dic      29°      14°  16 - 42 km/h         Soleado\n",
       "4   Sábado  28 Dic      31°      14°  17 - 45 km/h         Soleado\n",
       "5  Domingo  29 Dic      31°      15°  17 - 44 km/h         Soleado\n",
       "6    Lunes  30 Dic      29°      14°  15 - 44 km/h         Soleado"
      ]
     },
     "execution_count": 42,
     "metadata": {},
     "output_type": "execute_result"
    }
   ],
   "source": [
    "import pandas as pd\n",
    "\n",
    "weather = pd.DataFrame({\n",
    "    \"period\": periods,\n",
    "    \"date\": dates,\n",
    "    \"temp_max\": temp_maxs,\n",
    "    \"temp_min\":temp_mins,\n",
    "    \"wind_speed\":wind_speeds,\n",
    "    \"prediction\":predictions,\n",
    "})\n",
    "weather"
   ]
  }
 ],
 "metadata": {
  "kernelspec": {
   "display_name": "Python 3",
   "language": "python",
   "name": "python3"
  },
  "language_info": {
   "codemirror_mode": {
    "name": "ipython",
    "version": 3
   },
   "file_extension": ".py",
   "mimetype": "text/x-python",
   "name": "python",
   "nbconvert_exporter": "python",
   "pygments_lexer": "ipython3",
   "version": "3.12.8"
  }
 },
 "nbformat": 4,
 "nbformat_minor": 2
}
